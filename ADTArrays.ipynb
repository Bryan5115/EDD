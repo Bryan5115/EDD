{
  "nbformat": 4,
  "nbformat_minor": 0,
  "metadata": {
    "colab": {
      "name": "ADTArrays.ipynb",
      "provenance": [],
      "collapsed_sections": [],
      "authorship_tag": "ABX9TyPCgchAiQfhn0LMNihUPTwd",
      "include_colab_link": true
    },
    "kernelspec": {
      "name": "python3",
      "display_name": "Python 3"
    },
    "language_info": {
      "name": "python"
    }
  },
  "cells": [
    {
      "cell_type": "markdown",
      "metadata": {
        "id": "view-in-github",
        "colab_type": "text"
      },
      "source": [
        "<a href=\"https://colab.research.google.com/github/Bryan5115/EDD/blob/main/ADTArrays.ipynb\" target=\"_parent\"><img src=\"https://colab.research.google.com/assets/colab-badge.svg\" alt=\"Open In Colab\"/></a>"
      ]
    },
    {
      "cell_type": "code",
      "metadata": {
        "id": "uHONmMKfH32u"
      },
      "source": [
        "\"\"\"\n",
        "ADT Array\n",
        "\n",
        "\"\"\"\n",
        "\n",
        "class Array():\n",
        "    def __init__(self, tamano):\n",
        "        self.__tamano = tamano\n",
        "        self.__data = [0 for x in range(self.__tamano)]\n",
        "\n",
        "    def get_item(self , index):\n",
        "        return self.__data[ index ]\n",
        "\n",
        "    def to_string(self):\n",
        "        print(self.__data)\n",
        "    \n",
        "    def set_item(self, index, dato):\n",
        "        self.__data[ index ] = dato\n",
        "\n",
        "    def get_Lenght():\n",
        "        print()\n"
      ],
      "execution_count": 179,
      "outputs": []
    },
    {
      "cell_type": "code",
      "metadata": {
        "colab": {
          "base_uri": "https://localhost:8080/"
        },
        "id": "iawszqabMABx",
        "outputId": "9566bc7a-ac26-4a11-ae1f-d62b6795360c"
      },
      "source": [
        "ejemplo = Array(6)\n",
        "ejemplo.to_string()\n",
        "ejemplo.set_item(4, 1)\n",
        "ejemplo.to_string()\n",
        "ejemplo.get_item(1)"
      ],
      "execution_count": 180,
      "outputs": [
        {
          "output_type": "stream",
          "name": "stdout",
          "text": [
            "[0, 0, 0, 0, 0, 0]\n",
            "[0, 0, 0, 0, 1, 0]\n"
          ]
        },
        {
          "output_type": "execute_result",
          "data": {
            "text/plain": [
              "0"
            ]
          },
          "metadata": {},
          "execution_count": 180
        }
      ]
    }
  ]
}