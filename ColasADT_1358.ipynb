{
  "nbformat": 4,
  "nbformat_minor": 0,
  "metadata": {
    "colab": {
      "name": "ColasADT_1358.ipynb",
      "provenance": [],
      "collapsed_sections": [],
      "authorship_tag": "ABX9TyPzsUeMnCu2+aLsDYDJBI4M",
      "include_colab_link": true
    },
    "kernelspec": {
      "name": "python3",
      "display_name": "Python 3"
    },
    "language_info": {
      "name": "python"
    }
  },
  "cells": [
    {
      "cell_type": "markdown",
      "metadata": {
        "id": "view-in-github",
        "colab_type": "text"
      },
      "source": [
        "<a href=\"https://colab.research.google.com/github/Bryan5115/EDD/blob/main/ColasADT_1358.ipynb\" target=\"_parent\"><img src=\"https://colab.research.google.com/assets/colab-badge.svg\" alt=\"Open In Colab\"/></a>"
      ]
    },
    {
      "cell_type": "code",
      "metadata": {
        "id": "Tp6j_rtDs2xq"
      },
      "source": [
        "class QueueADT:\n",
        "    def __init__(self):\n",
        "        self.__data = []\n",
        "\n",
        "    def is_empty(self):\n",
        "        return len(self.__data) == 0\n",
        "\n",
        "    def lenght(self):\n",
        "        return len(self.__data)\n",
        "\n",
        "    def enqueue(self, elem):\n",
        "        self.__data.append(elem)\n",
        "\n",
        "    def dequeue(self):\n",
        "        if not self.is_empty():\n",
        "            return self.__data.pop(0)\n",
        "\n",
        "    def to_string(self):\n",
        "        for elem in self.__data:\n",
        "            print(f\"|{elem}| <--\", end=\" \")\n",
        "        print(\"\")"
      ],
      "execution_count": null,
      "outputs": []
    },
    {
      "cell_type": "code",
      "metadata": {
        "colab": {
          "base_uri": "https://localhost:8080/"
        },
        "id": "-5i_Qhipvrcy",
        "outputId": "4417cb1b-c64c-4bb7-eace-031426fb3a0c"
      },
      "source": [
        "cola = QueueADT()\n",
        "print(\"Esta vacio?\", cola.is_empty())\n",
        "print(\"# de elementos\", cola.lenght())\n",
        "cola.enqueue(10)\n",
        "cola.to_string()\n",
        "print(\"agregando más\")\n",
        "cola.enqueue(20)\n",
        "cola.enqueue(30)\n",
        "cola.enqueue(40)\n",
        "cola.to_string()\n",
        "siguiente = cola.dequeue()\n",
        "print(\"atendiendo a:\", siguiente)\n",
        "cola.to_string()"
      ],
      "execution_count": null,
      "outputs": [
        {
          "output_type": "stream",
          "name": "stdout",
          "text": [
            "Esta vacio? True\n",
            "# de elementos 0\n",
            "|10| <-- \n",
            "agregando más\n",
            "|10| <-- |20| <-- |30| <-- |40| <-- \n",
            "atendiendo a: 10\n",
            "|20| <-- |30| <-- |40| <-- \n"
          ]
        }
      ]
    },
    {
      "cell_type": "code",
      "metadata": {
        "id": "o6R-QQNq-fgP"
      },
      "source": [
        "class ColaPrioridadAcotada:\n",
        "    def __init__(self, niveles):\n",
        "        self.__data = [QueueADT() for x in range(niveles)]\n",
        "        self.lenght = 0 # el numero de elementos encolados\n",
        "\n",
        "    def is_empty(self):\n",
        "        return self.lenght == 0\n",
        "\n",
        "    def lenght(self):\n",
        "        return self.lenght\n",
        "\n",
        "    def enqueue(self, prioridad, elem):\n",
        "        if prioridad >= 0 and prioridad < len(self.__data):\n",
        "            self.__data[prioridad].enqueue(elem)\n",
        "            self.lenght += 1\n",
        "\n",
        "    def to_string(self):\n",
        "        for p in range(len(self.__data)):\n",
        "            print(f\"Prioridad { p } --> \", end=\"\")\n",
        "            self.__data[p].to_string()\n",
        "\n",
        "    def dequeue(self):\n",
        "        for nivel in self.__data:\n",
        "            if not nivel.is_empty():\n",
        "                self.lenght -= 1\n",
        "                return nivel.dequeue()"
      ],
      "execution_count": null,
      "outputs": []
    },
    {
      "cell_type": "code",
      "metadata": {
        "colab": {
          "base_uri": "https://localhost:8080/"
        },
        "id": "i99NGfIvClfX",
        "outputId": "c9fac423-31eb-49f0-bf18-8253ce37972b"
      },
      "source": [
        "cpa = ColaPrioridadAcotada(7)\n",
        "cpa.enqueue(4,\"A\")\n",
        "cpa.enqueue(2,\"Z\")\n",
        "cpa.enqueue(4,\"N\")\n",
        "cpa.enqueue(1,\"P\")\n",
        "cpa.to_string()\n",
        "print(\".-.-.-.-.-.-.-.-.-.-.-\")\n",
        "siguiente = cpa.dequeue()\n",
        "cpa.to_string()"
      ],
      "execution_count": null,
      "outputs": [
        {
          "output_type": "stream",
          "name": "stdout",
          "text": [
            "Prioridad 0 --> \n",
            "Prioridad 1 --> |P| <-- \n",
            "Prioridad 2 --> |Z| <-- \n",
            "Prioridad 3 --> \n",
            "Prioridad 4 --> |A| <-- |N| <-- \n",
            "Prioridad 5 --> \n",
            "Prioridad 6 --> \n",
            ".-.-.-.-.-.-.-.-.-.-.-\n",
            "Prioridad 0 --> \n",
            "Prioridad 1 --> \n",
            "Prioridad 2 --> |Z| <-- \n",
            "Prioridad 3 --> \n",
            "Prioridad 4 --> |A| <-- |N| <-- \n",
            "Prioridad 5 --> \n",
            "Prioridad 6 --> \n"
          ]
        }
      ]
    },
    {
      "cell_type": "code",
      "metadata": {
        "id": "1CQeOdgCFIOJ"
      },
      "source": [
        "class ColaDePrioridad:\n",
        "    def __init__(self):\n",
        "        self.__data = []\n",
        "        self.lenght = 0\n",
        "\n",
        "    def is_empty(self):\n",
        "        return self.lenght == 0\n",
        "\n",
        "    def lenght(self):\n",
        "        return self.lenght\n",
        "\n",
        "    #utilizar la funcion insert de el tipo de dato list de python\n",
        "    #para mantener odenado los niveles de prioridad\n",
        "    def enqueue(self, prioridad, elem):\n",
        "        existe = False\n",
        "        indice = 0\n",
        "        for index in range(len(self.__data) ):\n",
        "            if self.__data[index][\"p\"] == prioridad:\n",
        "                    existe = True\n",
        "                    indice = index\n",
        "                    break\n",
        "            if existe:\n",
        "                self.__data[indice][\"cola\"].enqueue(elem)\n",
        "            else:\n",
        "                self.__data.append( {\"p\":prioridad, \"cola\": QueueADT()} )\n",
        "                self.__data[-1][\"cola\"].enqueue(elem)\n",
        "\n",
        "    def to_string(self):\n",
        "        for level in self.__data:\n",
        "            print(level[\"p\"], end=\" = \")\n",
        "            level[\"cola\"].to_string()\n"
      ],
      "execution_count": 80,
      "outputs": []
    },
    {
      "cell_type": "code",
      "metadata": {
        "id": "LV5dX4bHd2hG"
      },
      "source": [
        "cp = ColaDePrioridad()\n",
        "cp.enqueue(2,\"A\")\n",
        "cp.enqueue(4,\"Z\")\n",
        "cp.enqueue(2,\"R\")\n",
        "cp.enqueue(1,\"F\")\n",
        "cp.to_string()"
      ],
      "execution_count": 81,
      "outputs": []
    }
  ]
}